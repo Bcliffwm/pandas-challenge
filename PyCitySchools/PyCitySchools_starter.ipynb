{
 "cells": [
  {
   "cell_type": "markdown",
   "metadata": {},
   "source": [
    "### Note\n",
    "* Instructions have been included for each segment. You do not have to follow them exactly, but they are included to help you think through the steps."
   ]
  },
  {
   "cell_type": "code",
   "execution_count": 47,
   "metadata": {},
   "outputs": [],
   "source": [
    "# Dependencies and Setup\n",
    "import pandas as pd\n",
    "import numpy as np\n",
    "\n",
    "# File to Load (Remember to Change These)\n",
    "school_data_to_load = \"Resources/schools_complete.csv\"\n",
    "student_data_to_load = \"Resources/students_complete.csv\"\n",
    "\n",
    "# Read School and Student Data File and store into Pandas Data Frames\n",
    "school_data = pd.read_csv(school_data_to_load)\n",
    "student_data = pd.read_csv(student_data_to_load)\n",
    "\n",
    "# Combine the data into a single dataset\n",
    "school_data_complete = pd.merge(student_data, school_data, how=\"left\", on=[\"school_name\", \"school_name\"])"
   ]
  },
  {
   "cell_type": "code",
   "execution_count": 48,
   "metadata": {},
   "outputs": [
    {
     "data": {
      "text/html": [
       "<div>\n",
       "<style scoped>\n",
       "    .dataframe tbody tr th:only-of-type {\n",
       "        vertical-align: middle;\n",
       "    }\n",
       "\n",
       "    .dataframe tbody tr th {\n",
       "        vertical-align: top;\n",
       "    }\n",
       "\n",
       "    .dataframe thead th {\n",
       "        text-align: right;\n",
       "    }\n",
       "</style>\n",
       "<table border=\"1\" class=\"dataframe\">\n",
       "  <thead>\n",
       "    <tr style=\"text-align: right;\">\n",
       "      <th></th>\n",
       "      <th>Student ID</th>\n",
       "      <th>student_name</th>\n",
       "      <th>gender</th>\n",
       "      <th>grade</th>\n",
       "      <th>school_name</th>\n",
       "      <th>reading_score</th>\n",
       "      <th>math_score</th>\n",
       "      <th>School ID</th>\n",
       "      <th>type</th>\n",
       "      <th>size</th>\n",
       "      <th>budget</th>\n",
       "    </tr>\n",
       "  </thead>\n",
       "  <tbody>\n",
       "    <tr>\n",
       "      <td>0</td>\n",
       "      <td>0</td>\n",
       "      <td>Paul Bradley</td>\n",
       "      <td>M</td>\n",
       "      <td>9th</td>\n",
       "      <td>Huang High School</td>\n",
       "      <td>66</td>\n",
       "      <td>79</td>\n",
       "      <td>0</td>\n",
       "      <td>District</td>\n",
       "      <td>2917</td>\n",
       "      <td>1910635</td>\n",
       "    </tr>\n",
       "    <tr>\n",
       "      <td>1</td>\n",
       "      <td>1</td>\n",
       "      <td>Victor Smith</td>\n",
       "      <td>M</td>\n",
       "      <td>12th</td>\n",
       "      <td>Huang High School</td>\n",
       "      <td>94</td>\n",
       "      <td>61</td>\n",
       "      <td>0</td>\n",
       "      <td>District</td>\n",
       "      <td>2917</td>\n",
       "      <td>1910635</td>\n",
       "    </tr>\n",
       "    <tr>\n",
       "      <td>2</td>\n",
       "      <td>2</td>\n",
       "      <td>Kevin Rodriguez</td>\n",
       "      <td>M</td>\n",
       "      <td>12th</td>\n",
       "      <td>Huang High School</td>\n",
       "      <td>90</td>\n",
       "      <td>60</td>\n",
       "      <td>0</td>\n",
       "      <td>District</td>\n",
       "      <td>2917</td>\n",
       "      <td>1910635</td>\n",
       "    </tr>\n",
       "    <tr>\n",
       "      <td>3</td>\n",
       "      <td>3</td>\n",
       "      <td>Dr. Richard Scott</td>\n",
       "      <td>M</td>\n",
       "      <td>12th</td>\n",
       "      <td>Huang High School</td>\n",
       "      <td>67</td>\n",
       "      <td>58</td>\n",
       "      <td>0</td>\n",
       "      <td>District</td>\n",
       "      <td>2917</td>\n",
       "      <td>1910635</td>\n",
       "    </tr>\n",
       "    <tr>\n",
       "      <td>4</td>\n",
       "      <td>4</td>\n",
       "      <td>Bonnie Ray</td>\n",
       "      <td>F</td>\n",
       "      <td>9th</td>\n",
       "      <td>Huang High School</td>\n",
       "      <td>97</td>\n",
       "      <td>84</td>\n",
       "      <td>0</td>\n",
       "      <td>District</td>\n",
       "      <td>2917</td>\n",
       "      <td>1910635</td>\n",
       "    </tr>\n",
       "  </tbody>\n",
       "</table>\n",
       "</div>"
      ],
      "text/plain": [
       "   Student ID       student_name gender grade        school_name  \\\n",
       "0           0       Paul Bradley      M   9th  Huang High School   \n",
       "1           1       Victor Smith      M  12th  Huang High School   \n",
       "2           2    Kevin Rodriguez      M  12th  Huang High School   \n",
       "3           3  Dr. Richard Scott      M  12th  Huang High School   \n",
       "4           4         Bonnie Ray      F   9th  Huang High School   \n",
       "\n",
       "   reading_score  math_score  School ID      type  size   budget  \n",
       "0             66          79          0  District  2917  1910635  \n",
       "1             94          61          0  District  2917  1910635  \n",
       "2             90          60          0  District  2917  1910635  \n",
       "3             67          58          0  District  2917  1910635  \n",
       "4             97          84          0  District  2917  1910635  "
      ]
     },
     "execution_count": 48,
     "metadata": {},
     "output_type": "execute_result"
    }
   ],
   "source": [
    "school_data_complete.head()"
   ]
  },
  {
   "cell_type": "code",
   "execution_count": 49,
   "metadata": {},
   "outputs": [
    {
     "data": {
      "text/plain": [
       "15"
      ]
     },
     "execution_count": 49,
     "metadata": {},
     "output_type": "execute_result"
    }
   ],
   "source": [
    "# Calculating total number of scools\n",
    "school_count = np.unique(school_data_complete[\"school_name\"], return_counts=True)\n",
    "#school_count[0]\n",
    "#school_names = school_data_complete[\"school_name\"] - uncomment this code to see all schools listed\n",
    "# code uses length of the first return in school_names\n",
    "#school_names = school_data_complete[\"school_name\"].len(school_count[0])\n",
    "# 15 schools\n",
    "school_count = 15\n",
    "school_count"
   ]
  },
  {
   "cell_type": "code",
   "execution_count": 50,
   "metadata": {},
   "outputs": [
    {
     "data": {
      "text/plain": [
       "39170"
      ]
     },
     "execution_count": 50,
     "metadata": {},
     "output_type": "execute_result"
    }
   ],
   "source": [
    "# calculating total number of students while storing result in variable\n",
    "student_no_total = school_data_complete[\"student_name\"].count()\n",
    "student_no_total"
   ]
  },
  {
   "cell_type": "code",
   "execution_count": 51,
   "metadata": {},
   "outputs": [
    {
     "data": {
      "text/plain": [
       "82932329558"
      ]
     },
     "execution_count": 51,
     "metadata": {},
     "output_type": "execute_result"
    }
   ],
   "source": [
    "# calculating total budget \n",
    "total_budget = school_data_complete[\"budget\"].sum()\n",
    "total_budget"
   ]
  },
  {
   "cell_type": "code",
   "execution_count": 52,
   "metadata": {},
   "outputs": [
    {
     "data": {
      "text/plain": [
       "78.98537145774827"
      ]
     },
     "execution_count": 52,
     "metadata": {},
     "output_type": "execute_result"
    }
   ],
   "source": [
    "# calculating avg. math score while storing result in variable\n",
    "math_average = school_data_complete[\"math_score\"].mean()\n",
    "math_average"
   ]
  },
  {
   "cell_type": "code",
   "execution_count": 53,
   "metadata": {},
   "outputs": [
    {
     "data": {
      "text/plain": [
       "81.87784018381414"
      ]
     },
     "execution_count": 53,
     "metadata": {},
     "output_type": "execute_result"
    }
   ],
   "source": [
    "# calculating avg. reading score while storing result in variable\n",
    "read_average = school_data_complete[\"reading_score\"].mean()\n",
    "read_average"
   ]
  },
  {
   "cell_type": "code",
   "execution_count": 54,
   "metadata": {},
   "outputs": [
    {
     "data": {
      "text/plain": [
       "80.43160582078121"
      ]
     },
     "execution_count": 54,
     "metadata": {},
     "output_type": "execute_result"
    }
   ],
   "source": [
    "# calculating overall average score while storing result in variable\n",
    "score_average = (math_average + read_average)/2\n",
    "score_average"
   ]
  },
  {
   "cell_type": "code",
   "execution_count": 62,
   "metadata": {},
   "outputs": [
    {
     "data": {
      "text/plain": [
       "74.9808526933878"
      ]
     },
     "execution_count": 62,
     "metadata": {},
     "output_type": "execute_result"
    }
   ],
   "source": [
    "# calculating percentage of students with passing math score (70 and above) while\n",
    "# storing result in variable\n",
    "school_data_complete[\"math_score\"].value_counts()\n",
    "# \"True\" boolean = 1, \"False\" boolean = 0; \n",
    "#sum the number of \"True\" booleans when math_score is >= 70\n",
    "seventy_and_above = school_data_complete[\"math_score\"]>= 70\n",
    "seventy_and_above.sum()\n",
    "percentage_math = seventy_and_above.sum()/student_no_total*100\n",
    "percentage_math"
   ]
  },
  {
   "cell_type": "code",
   "execution_count": 58,
   "metadata": {},
   "outputs": [
    {
     "data": {
      "text/plain": [
       "85.80546336482001"
      ]
     },
     "execution_count": 58,
     "metadata": {},
     "output_type": "execute_result"
    }
   ],
   "source": [
    "# calculating percentage of students with passing reading score while\n",
    "# storing result in variable\n",
    "school_data_complete[\"reading_score\"].value_counts()\n",
    "reading_seven_above = school_data_complete[\"reading_score\"]>=70\n",
    "reading_seven_above.sum()\n",
    "percentage_reading = reading_seven_above.sum()/student_no_total*100\n",
    "percentage_reading"
   ]
  },
  {
   "cell_type": "code",
   "execution_count": 59,
   "metadata": {},
   "outputs": [
    {
     "data": {
      "text/plain": [
       "80.39315802910392"
      ]
     },
     "execution_count": 59,
     "metadata": {},
     "output_type": "execute_result"
    }
   ],
   "source": [
    "# calculating overall passing rate using reading and math passing_rates\n",
    "overall_passing = (percentage_math+percentage_reading)/2\n",
    "overall_passing"
   ]
  },
  {
   "cell_type": "code",
   "execution_count": 60,
   "metadata": {},
   "outputs": [
    {
     "data": {
      "text/html": [
       "<div>\n",
       "<style scoped>\n",
       "    .dataframe tbody tr th:only-of-type {\n",
       "        vertical-align: middle;\n",
       "    }\n",
       "\n",
       "    .dataframe tbody tr th {\n",
       "        vertical-align: top;\n",
       "    }\n",
       "\n",
       "    .dataframe thead th {\n",
       "        text-align: right;\n",
       "    }\n",
       "</style>\n",
       "<table border=\"1\" class=\"dataframe\">\n",
       "  <thead>\n",
       "    <tr style=\"text-align: right;\">\n",
       "      <th></th>\n",
       "      <th>Total schools</th>\n",
       "      <th>Total students</th>\n",
       "      <th>Total budget</th>\n",
       "      <th>Average Math Score</th>\n",
       "      <th>Average Reading Score</th>\n",
       "      <th>% Passing Math</th>\n",
       "      <th>% Passing Reading</th>\n",
       "      <th>% Passing Overall</th>\n",
       "    </tr>\n",
       "  </thead>\n",
       "  <tbody>\n",
       "    <tr>\n",
       "      <td>0</td>\n",
       "      <td>15</td>\n",
       "      <td>39170</td>\n",
       "      <td>82932329558</td>\n",
       "      <td>78.985371</td>\n",
       "      <td>81.87784</td>\n",
       "      <td>74.980853</td>\n",
       "      <td>85.805463</td>\n",
       "      <td>80.393158</td>\n",
       "    </tr>\n",
       "  </tbody>\n",
       "</table>\n",
       "</div>"
      ],
      "text/plain": [
       "   Total schools  Total students  Total budget  Average Math Score  \\\n",
       "0             15           39170   82932329558           78.985371   \n",
       "\n",
       "   Average Reading Score  % Passing Math  % Passing Reading  % Passing Overall  \n",
       "0               81.87784       74.980853          85.805463          80.393158  "
      ]
     },
     "execution_count": 60,
     "metadata": {},
     "output_type": "execute_result"
    }
   ],
   "source": [
    "# create summary_df to hold all \n",
    "summary_df = pd.DataFrame({\"Total schools\": [school_count],\n",
    "                          \"Total students\": [student_no_total],\n",
    "                          \"Total budget\": [total_budget],\n",
    "                          \"Average Math Score\": [math_average],\n",
    "                          \"Average Reading Score\": [read_average],\n",
    "                          \"% Passing Math\": [percentage_math],\n",
    "                          \"% Passing Reading\": [percentage_reading],\n",
    "                          \"% Passing Overall\": [overall_passing]})\n",
    "summary_df"
   ]
  },
  {
   "cell_type": "markdown",
   "metadata": {},
   "source": [
    "## District Summary\n",
    "\n",
    "* Calculate the total number of schools\n",
    "\n",
    "* Calculate the total number of students\n",
    "\n",
    "* Calculate the total budget\n",
    "\n",
    "* Calculate the average math score \n",
    "\n",
    "* Calculate the average reading score\n",
    "\n",
    "* Calculate the overall passing rate (overall average score), i.e. (avg. math score + avg. reading score)/2\n",
    "\n",
    "* Calculate the percentage of students with a passing math score (70 or greater)\n",
    "\n",
    "* Calculate the percentage of students with a passing reading score (70 or greater)\n",
    "\n",
    "* Create a dataframe to hold the above results\n",
    "\n",
    "* Optional: give the displayed data cleaner formatting"
   ]
  },
  {
   "cell_type": "markdown",
   "metadata": {},
   "source": [
    "## School Summary"
   ]
  },
  {
   "cell_type": "markdown",
   "metadata": {},
   "source": [
    "* Create an overview table that summarizes key metrics about each school, including:\n",
    "  * School Name\n",
    "  * School Type\n",
    "  * Total Students\n",
    "  * Total School Budget\n",
    "  * Per Student Budget\n",
    "  * Average Math Score\n",
    "  * Average Reading Score\n",
    "  * % Passing Math\n",
    "  * % Passing Reading\n",
    "  * Overall Passing Rate (Average of the above two)\n",
    "  \n",
    "* Create a dataframe to hold the above results"
   ]
  },
  {
   "cell_type": "code",
   "execution_count": 46,
   "metadata": {},
   "outputs": [
    {
     "data": {
      "text/html": [
       "<div>\n",
       "<style scoped>\n",
       "    .dataframe tbody tr th:only-of-type {\n",
       "        vertical-align: middle;\n",
       "    }\n",
       "\n",
       "    .dataframe tbody tr th {\n",
       "        vertical-align: top;\n",
       "    }\n",
       "\n",
       "    .dataframe thead th {\n",
       "        text-align: right;\n",
       "    }\n",
       "</style>\n",
       "<table border=\"1\" class=\"dataframe\">\n",
       "  <thead>\n",
       "    <tr style=\"text-align: right;\">\n",
       "      <th></th>\n",
       "      <th>School Type</th>\n",
       "      <th>Total Students</th>\n",
       "      <th>Total School Budget</th>\n",
       "      <th>Per Student Budget</th>\n",
       "      <th>Average Math Score</th>\n",
       "      <th>Average Reading Score</th>\n",
       "    </tr>\n",
       "    <tr>\n",
       "      <th>school_name</th>\n",
       "      <th></th>\n",
       "      <th></th>\n",
       "      <th></th>\n",
       "      <th></th>\n",
       "      <th></th>\n",
       "      <th></th>\n",
       "    </tr>\n",
       "  </thead>\n",
       "  <tbody>\n",
       "    <tr>\n",
       "      <td>Huang High School</td>\n",
       "      <td>0        District\n",
       "1        District\n",
       "2        D...</td>\n",
       "      <td>0        2917\n",
       "1        2917\n",
       "2        2917\n",
       "3   ...</td>\n",
       "      <td>0        1910635\n",
       "1        1910635\n",
       "2        191...</td>\n",
       "      <td>0        655.0\n",
       "1        655.0\n",
       "2        655.0\n",
       "3...</td>\n",
       "      <td>[1060.6297565992459, 1049.1207188877586, 1756....</td>\n",
       "      <td>[1099.4703462461432, 1087.5398440149204, 1821....</td>\n",
       "    </tr>\n",
       "    <tr>\n",
       "      <td>Huang High School</td>\n",
       "      <td>0        District\n",
       "1        District\n",
       "2        D...</td>\n",
       "      <td>0        2917\n",
       "1        2917\n",
       "2        2917\n",
       "3   ...</td>\n",
       "      <td>0        1910635\n",
       "1        1910635\n",
       "2        191...</td>\n",
       "      <td>0        655.0\n",
       "1        655.0\n",
       "2        655.0\n",
       "3...</td>\n",
       "      <td>[1060.6297565992459, 1049.1207188877586, 1756....</td>\n",
       "      <td>[1099.4703462461432, 1087.5398440149204, 1821....</td>\n",
       "    </tr>\n",
       "    <tr>\n",
       "      <td>Huang High School</td>\n",
       "      <td>0        District\n",
       "1        District\n",
       "2        D...</td>\n",
       "      <td>0        2917\n",
       "1        2917\n",
       "2        2917\n",
       "3   ...</td>\n",
       "      <td>0        1910635\n",
       "1        1910635\n",
       "2        191...</td>\n",
       "      <td>0        655.0\n",
       "1        655.0\n",
       "2        655.0\n",
       "3...</td>\n",
       "      <td>[1060.6297565992459, 1049.1207188877586, 1756....</td>\n",
       "      <td>[1099.4703462461432, 1087.5398440149204, 1821....</td>\n",
       "    </tr>\n",
       "    <tr>\n",
       "      <td>Huang High School</td>\n",
       "      <td>0        District\n",
       "1        District\n",
       "2        D...</td>\n",
       "      <td>0        2917\n",
       "1        2917\n",
       "2        2917\n",
       "3   ...</td>\n",
       "      <td>0        1910635\n",
       "1        1910635\n",
       "2        191...</td>\n",
       "      <td>0        655.0\n",
       "1        655.0\n",
       "2        655.0\n",
       "3...</td>\n",
       "      <td>[1060.6297565992459, 1049.1207188877586, 1756....</td>\n",
       "      <td>[1099.4703462461432, 1087.5398440149204, 1821....</td>\n",
       "    </tr>\n",
       "    <tr>\n",
       "      <td>Huang High School</td>\n",
       "      <td>0        District\n",
       "1        District\n",
       "2        D...</td>\n",
       "      <td>0        2917\n",
       "1        2917\n",
       "2        2917\n",
       "3   ...</td>\n",
       "      <td>0        1910635\n",
       "1        1910635\n",
       "2        191...</td>\n",
       "      <td>0        655.0\n",
       "1        655.0\n",
       "2        655.0\n",
       "3...</td>\n",
       "      <td>[1060.6297565992459, 1049.1207188877586, 1756....</td>\n",
       "      <td>[1099.4703462461432, 1087.5398440149204, 1821....</td>\n",
       "    </tr>\n",
       "    <tr>\n",
       "      <td>...</td>\n",
       "      <td>...</td>\n",
       "      <td>...</td>\n",
       "      <td>...</td>\n",
       "      <td>...</td>\n",
       "      <td>...</td>\n",
       "      <td>...</td>\n",
       "    </tr>\n",
       "    <tr>\n",
       "      <td>Thomas High School</td>\n",
       "      <td>0        District\n",
       "1        District\n",
       "2        D...</td>\n",
       "      <td>0        2917\n",
       "1        2917\n",
       "2        2917\n",
       "3   ...</td>\n",
       "      <td>0        1910635\n",
       "1        1910635\n",
       "2        191...</td>\n",
       "      <td>0        655.0\n",
       "1        655.0\n",
       "2        655.0\n",
       "3...</td>\n",
       "      <td>[1060.6297565992459, 1049.1207188877586, 1756....</td>\n",
       "      <td>[1099.4703462461432, 1087.5398440149204, 1821....</td>\n",
       "    </tr>\n",
       "    <tr>\n",
       "      <td>Thomas High School</td>\n",
       "      <td>0        District\n",
       "1        District\n",
       "2        D...</td>\n",
       "      <td>0        2917\n",
       "1        2917\n",
       "2        2917\n",
       "3   ...</td>\n",
       "      <td>0        1910635\n",
       "1        1910635\n",
       "2        191...</td>\n",
       "      <td>0        655.0\n",
       "1        655.0\n",
       "2        655.0\n",
       "3...</td>\n",
       "      <td>[1060.6297565992459, 1049.1207188877586, 1756....</td>\n",
       "      <td>[1099.4703462461432, 1087.5398440149204, 1821....</td>\n",
       "    </tr>\n",
       "    <tr>\n",
       "      <td>Thomas High School</td>\n",
       "      <td>0        District\n",
       "1        District\n",
       "2        D...</td>\n",
       "      <td>0        2917\n",
       "1        2917\n",
       "2        2917\n",
       "3   ...</td>\n",
       "      <td>0        1910635\n",
       "1        1910635\n",
       "2        191...</td>\n",
       "      <td>0        655.0\n",
       "1        655.0\n",
       "2        655.0\n",
       "3...</td>\n",
       "      <td>[1060.6297565992459, 1049.1207188877586, 1756....</td>\n",
       "      <td>[1099.4703462461432, 1087.5398440149204, 1821....</td>\n",
       "    </tr>\n",
       "    <tr>\n",
       "      <td>Thomas High School</td>\n",
       "      <td>0        District\n",
       "1        District\n",
       "2        D...</td>\n",
       "      <td>0        2917\n",
       "1        2917\n",
       "2        2917\n",
       "3   ...</td>\n",
       "      <td>0        1910635\n",
       "1        1910635\n",
       "2        191...</td>\n",
       "      <td>0        655.0\n",
       "1        655.0\n",
       "2        655.0\n",
       "3...</td>\n",
       "      <td>[1060.6297565992459, 1049.1207188877586, 1756....</td>\n",
       "      <td>[1099.4703462461432, 1087.5398440149204, 1821....</td>\n",
       "    </tr>\n",
       "    <tr>\n",
       "      <td>Thomas High School</td>\n",
       "      <td>0        District\n",
       "1        District\n",
       "2        D...</td>\n",
       "      <td>0        2917\n",
       "1        2917\n",
       "2        2917\n",
       "3   ...</td>\n",
       "      <td>0        1910635\n",
       "1        1910635\n",
       "2        191...</td>\n",
       "      <td>0        655.0\n",
       "1        655.0\n",
       "2        655.0\n",
       "3...</td>\n",
       "      <td>[1060.6297565992459, 1049.1207188877586, 1756....</td>\n",
       "      <td>[1099.4703462461432, 1087.5398440149204, 1821....</td>\n",
       "    </tr>\n",
       "  </tbody>\n",
       "</table>\n",
       "<p>39170 rows × 6 columns</p>\n",
       "</div>"
      ],
      "text/plain": [
       "                                                          School Type  \\\n",
       "school_name                                                             \n",
       "Huang High School   0        District\n",
       "1        District\n",
       "2        D...   \n",
       "Huang High School   0        District\n",
       "1        District\n",
       "2        D...   \n",
       "Huang High School   0        District\n",
       "1        District\n",
       "2        D...   \n",
       "Huang High School   0        District\n",
       "1        District\n",
       "2        D...   \n",
       "Huang High School   0        District\n",
       "1        District\n",
       "2        D...   \n",
       "...                                                               ...   \n",
       "Thomas High School  0        District\n",
       "1        District\n",
       "2        D...   \n",
       "Thomas High School  0        District\n",
       "1        District\n",
       "2        D...   \n",
       "Thomas High School  0        District\n",
       "1        District\n",
       "2        D...   \n",
       "Thomas High School  0        District\n",
       "1        District\n",
       "2        D...   \n",
       "Thomas High School  0        District\n",
       "1        District\n",
       "2        D...   \n",
       "\n",
       "                                                       Total Students  \\\n",
       "school_name                                                             \n",
       "Huang High School   0        2917\n",
       "1        2917\n",
       "2        2917\n",
       "3   ...   \n",
       "Huang High School   0        2917\n",
       "1        2917\n",
       "2        2917\n",
       "3   ...   \n",
       "Huang High School   0        2917\n",
       "1        2917\n",
       "2        2917\n",
       "3   ...   \n",
       "Huang High School   0        2917\n",
       "1        2917\n",
       "2        2917\n",
       "3   ...   \n",
       "Huang High School   0        2917\n",
       "1        2917\n",
       "2        2917\n",
       "3   ...   \n",
       "...                                                               ...   \n",
       "Thomas High School  0        2917\n",
       "1        2917\n",
       "2        2917\n",
       "3   ...   \n",
       "Thomas High School  0        2917\n",
       "1        2917\n",
       "2        2917\n",
       "3   ...   \n",
       "Thomas High School  0        2917\n",
       "1        2917\n",
       "2        2917\n",
       "3   ...   \n",
       "Thomas High School  0        2917\n",
       "1        2917\n",
       "2        2917\n",
       "3   ...   \n",
       "Thomas High School  0        2917\n",
       "1        2917\n",
       "2        2917\n",
       "3   ...   \n",
       "\n",
       "                                                  Total School Budget  \\\n",
       "school_name                                                             \n",
       "Huang High School   0        1910635\n",
       "1        1910635\n",
       "2        191...   \n",
       "Huang High School   0        1910635\n",
       "1        1910635\n",
       "2        191...   \n",
       "Huang High School   0        1910635\n",
       "1        1910635\n",
       "2        191...   \n",
       "Huang High School   0        1910635\n",
       "1        1910635\n",
       "2        191...   \n",
       "Huang High School   0        1910635\n",
       "1        1910635\n",
       "2        191...   \n",
       "...                                                               ...   \n",
       "Thomas High School  0        1910635\n",
       "1        1910635\n",
       "2        191...   \n",
       "Thomas High School  0        1910635\n",
       "1        1910635\n",
       "2        191...   \n",
       "Thomas High School  0        1910635\n",
       "1        1910635\n",
       "2        191...   \n",
       "Thomas High School  0        1910635\n",
       "1        1910635\n",
       "2        191...   \n",
       "Thomas High School  0        1910635\n",
       "1        1910635\n",
       "2        191...   \n",
       "\n",
       "                                                   Per Student Budget  \\\n",
       "school_name                                                             \n",
       "Huang High School   0        655.0\n",
       "1        655.0\n",
       "2        655.0\n",
       "3...   \n",
       "Huang High School   0        655.0\n",
       "1        655.0\n",
       "2        655.0\n",
       "3...   \n",
       "Huang High School   0        655.0\n",
       "1        655.0\n",
       "2        655.0\n",
       "3...   \n",
       "Huang High School   0        655.0\n",
       "1        655.0\n",
       "2        655.0\n",
       "3...   \n",
       "Huang High School   0        655.0\n",
       "1        655.0\n",
       "2        655.0\n",
       "3...   \n",
       "...                                                               ...   \n",
       "Thomas High School  0        655.0\n",
       "1        655.0\n",
       "2        655.0\n",
       "3...   \n",
       "Thomas High School  0        655.0\n",
       "1        655.0\n",
       "2        655.0\n",
       "3...   \n",
       "Thomas High School  0        655.0\n",
       "1        655.0\n",
       "2        655.0\n",
       "3...   \n",
       "Thomas High School  0        655.0\n",
       "1        655.0\n",
       "2        655.0\n",
       "3...   \n",
       "Thomas High School  0        655.0\n",
       "1        655.0\n",
       "2        655.0\n",
       "3...   \n",
       "\n",
       "                                                   Average Math Score  \\\n",
       "school_name                                                             \n",
       "Huang High School   [1060.6297565992459, 1049.1207188877586, 1756....   \n",
       "Huang High School   [1060.6297565992459, 1049.1207188877586, 1756....   \n",
       "Huang High School   [1060.6297565992459, 1049.1207188877586, 1756....   \n",
       "Huang High School   [1060.6297565992459, 1049.1207188877586, 1756....   \n",
       "Huang High School   [1060.6297565992459, 1049.1207188877586, 1756....   \n",
       "...                                                               ...   \n",
       "Thomas High School  [1060.6297565992459, 1049.1207188877586, 1756....   \n",
       "Thomas High School  [1060.6297565992459, 1049.1207188877586, 1756....   \n",
       "Thomas High School  [1060.6297565992459, 1049.1207188877586, 1756....   \n",
       "Thomas High School  [1060.6297565992459, 1049.1207188877586, 1756....   \n",
       "Thomas High School  [1060.6297565992459, 1049.1207188877586, 1756....   \n",
       "\n",
       "                                                Average Reading Score  \n",
       "school_name                                                            \n",
       "Huang High School   [1099.4703462461432, 1087.5398440149204, 1821....  \n",
       "Huang High School   [1099.4703462461432, 1087.5398440149204, 1821....  \n",
       "Huang High School   [1099.4703462461432, 1087.5398440149204, 1821....  \n",
       "Huang High School   [1099.4703462461432, 1087.5398440149204, 1821....  \n",
       "Huang High School   [1099.4703462461432, 1087.5398440149204, 1821....  \n",
       "...                                                               ...  \n",
       "Thomas High School  [1099.4703462461432, 1087.5398440149204, 1821....  \n",
       "Thomas High School  [1099.4703462461432, 1087.5398440149204, 1821....  \n",
       "Thomas High School  [1099.4703462461432, 1087.5398440149204, 1821....  \n",
       "Thomas High School  [1099.4703462461432, 1087.5398440149204, 1821....  \n",
       "Thomas High School  [1099.4703462461432, 1087.5398440149204, 1821....  \n",
       "\n",
       "[39170 rows x 6 columns]"
      ]
     },
     "execution_count": 46,
     "metadata": {},
     "output_type": "execute_result"
    }
   ],
   "source": [
    "# Creating overview table using \"School_name\" as the index\n",
    "school_df = pd.DataFrame({\"School Type\": [school_data_complete[\"type\"]],\n",
    "                        \"Total Students\": [school_data_complete[\"size\"]],\n",
    "                        \"Total School Budget\": [school_data_complete[\"budget\"]],\n",
    "                        \"Per Student Budget\": [budget_per_student],\n",
    "                        \"Average Math Score\": [school_math],\n",
    "                        \"Average Reading Score\": [school_reading]},\n",
    "                         index= school_data_complete[\"school_name\"],\n",
    "                         )\n",
    "                          \n",
    "                         \n",
    "school_df\n",
    "#PROBLEM - READING IN ARRAYS INTO EACH COLUMN; MUST FIND WAY TO HAVE THEM UNLIST"
   ]
  },
  {
   "cell_type": "code",
   "execution_count": 2,
   "metadata": {},
   "outputs": [
    {
     "data": {
      "text/html": [
       "<div>\n",
       "<style scoped>\n",
       "    .dataframe tbody tr th:only-of-type {\n",
       "        vertical-align: middle;\n",
       "    }\n",
       "\n",
       "    .dataframe tbody tr th {\n",
       "        vertical-align: top;\n",
       "    }\n",
       "\n",
       "    .dataframe thead th {\n",
       "        text-align: right;\n",
       "    }\n",
       "</style>\n",
       "<table border=\"1\" class=\"dataframe\">\n",
       "  <thead>\n",
       "    <tr style=\"text-align: right;\">\n",
       "      <th></th>\n",
       "      <th>Student ID</th>\n",
       "      <th>student_name</th>\n",
       "      <th>gender</th>\n",
       "      <th>grade</th>\n",
       "      <th>school_name</th>\n",
       "      <th>reading_score</th>\n",
       "      <th>math_score</th>\n",
       "      <th>School ID</th>\n",
       "      <th>type</th>\n",
       "      <th>size</th>\n",
       "      <th>budget</th>\n",
       "    </tr>\n",
       "  </thead>\n",
       "  <tbody>\n",
       "    <tr>\n",
       "      <td>0</td>\n",
       "      <td>0</td>\n",
       "      <td>Paul Bradley</td>\n",
       "      <td>M</td>\n",
       "      <td>9th</td>\n",
       "      <td>Huang High School</td>\n",
       "      <td>66</td>\n",
       "      <td>79</td>\n",
       "      <td>0</td>\n",
       "      <td>District</td>\n",
       "      <td>2917</td>\n",
       "      <td>1910635</td>\n",
       "    </tr>\n",
       "    <tr>\n",
       "      <td>1</td>\n",
       "      <td>1</td>\n",
       "      <td>Victor Smith</td>\n",
       "      <td>M</td>\n",
       "      <td>12th</td>\n",
       "      <td>Huang High School</td>\n",
       "      <td>94</td>\n",
       "      <td>61</td>\n",
       "      <td>0</td>\n",
       "      <td>District</td>\n",
       "      <td>2917</td>\n",
       "      <td>1910635</td>\n",
       "    </tr>\n",
       "    <tr>\n",
       "      <td>2</td>\n",
       "      <td>2</td>\n",
       "      <td>Kevin Rodriguez</td>\n",
       "      <td>M</td>\n",
       "      <td>12th</td>\n",
       "      <td>Huang High School</td>\n",
       "      <td>90</td>\n",
       "      <td>60</td>\n",
       "      <td>0</td>\n",
       "      <td>District</td>\n",
       "      <td>2917</td>\n",
       "      <td>1910635</td>\n",
       "    </tr>\n",
       "    <tr>\n",
       "      <td>3</td>\n",
       "      <td>3</td>\n",
       "      <td>Dr. Richard Scott</td>\n",
       "      <td>M</td>\n",
       "      <td>12th</td>\n",
       "      <td>Huang High School</td>\n",
       "      <td>67</td>\n",
       "      <td>58</td>\n",
       "      <td>0</td>\n",
       "      <td>District</td>\n",
       "      <td>2917</td>\n",
       "      <td>1910635</td>\n",
       "    </tr>\n",
       "    <tr>\n",
       "      <td>4</td>\n",
       "      <td>4</td>\n",
       "      <td>Bonnie Ray</td>\n",
       "      <td>F</td>\n",
       "      <td>9th</td>\n",
       "      <td>Huang High School</td>\n",
       "      <td>97</td>\n",
       "      <td>84</td>\n",
       "      <td>0</td>\n",
       "      <td>District</td>\n",
       "      <td>2917</td>\n",
       "      <td>1910635</td>\n",
       "    </tr>\n",
       "  </tbody>\n",
       "</table>\n",
       "</div>"
      ],
      "text/plain": [
       "   Student ID       student_name gender grade        school_name  \\\n",
       "0           0       Paul Bradley      M   9th  Huang High School   \n",
       "1           1       Victor Smith      M  12th  Huang High School   \n",
       "2           2    Kevin Rodriguez      M  12th  Huang High School   \n",
       "3           3  Dr. Richard Scott      M  12th  Huang High School   \n",
       "4           4         Bonnie Ray      F   9th  Huang High School   \n",
       "\n",
       "   reading_score  math_score  School ID      type  size   budget  \n",
       "0             66          79          0  District  2917  1910635  \n",
       "1             94          61          0  District  2917  1910635  \n",
       "2             90          60          0  District  2917  1910635  \n",
       "3             67          58          0  District  2917  1910635  \n",
       "4             97          84          0  District  2917  1910635  "
      ]
     },
     "execution_count": 2,
     "metadata": {},
     "output_type": "execute_result"
    }
   ],
   "source": [
    "# for reference\n",
    "school_data_complete.head()"
   ]
  },
  {
   "cell_type": "code",
   "execution_count": 17,
   "metadata": {},
   "outputs": [
    {
     "data": {
      "text/plain": [
       "0        655.0\n",
       "1        655.0\n",
       "2        655.0\n",
       "3        655.0\n",
       "4        655.0\n",
       "         ...  \n",
       "39165    638.0\n",
       "39166    638.0\n",
       "39167    638.0\n",
       "39168    638.0\n",
       "39169    638.0\n",
       "Length: 39170, dtype: float64"
      ]
     },
     "execution_count": 17,
     "metadata": {},
     "output_type": "execute_result"
    }
   ],
   "source": [
    "# Creating variable for per student budget\n",
    "school_data_complete[\"budget\"]/school_data_complete[\"size\"]\n",
    "\n",
    "budget_per_student = school_data_complete[\"budget\"]/school_data_complete[\"size\"]\n",
    "budget_per_student"
   ]
  },
  {
   "cell_type": "code",
   "execution_count": 20,
   "metadata": {},
   "outputs": [
    {
     "data": {
      "text/plain": [
       "array([1060.6297566 , 1049.12071889, 1756.87507098,  667.49881338,\n",
       "       2107.53201635, 1355.1717039 , 1665.15446717,  621.75582797,\n",
       "       7245.56674473, 3216.06756757, 1718.80944444,  773.65766442,\n",
       "        649.83343835, 1129.55713764, 1892.26727829])"
      ]
     },
     "execution_count": 20,
     "metadata": {},
     "output_type": "execute_result"
    }
   ],
   "source": [
    "# Creating variable for Average Math Score\n",
    "school_data_complete[\"math_score\"].sum()/school_data_complete[\"size\"]\n",
    "# finding unique values\n",
    "#school_math = school_data_complete[\"math_score\"].sum()/school_data_complete[\"size\"].unique()\n",
    "school_math"
   ]
  },
  {
   "cell_type": "code",
   "execution_count": 21,
   "metadata": {},
   "outputs": [
    {
     "data": {
      "text/plain": [
       "array([1099.47034625, 1087.53984401, 1821.21237933,  691.94282632,\n",
       "       2184.71049046, 1404.79851073, 1726.13293864,  644.52471865,\n",
       "       7510.90163934, 3333.84095634, 1781.75277778,  801.98924731,\n",
       "        673.6305398 , 1170.9218693 , 1961.56269113])"
      ]
     },
     "execution_count": 21,
     "metadata": {},
     "output_type": "execute_result"
    }
   ],
   "source": [
    "# Creating variable for Average Reading Score\n",
    "school_data_complete[\"reading_score\"].sum()/school_data_complete[\"size\"]\n",
    "# finding unique values\n",
    "#school_reading = school_data_complete[\"reading_score\"].sum()/school_data_complete[\"size\"].unique()\n",
    "school_reading"
   ]
  },
  {
   "cell_type": "markdown",
   "metadata": {},
   "source": [
    "## Top Performing Schools (By Passing Rate)"
   ]
  },
  {
   "cell_type": "markdown",
   "metadata": {},
   "source": [
    "* Sort and display the top five schools in overall passing rate"
   ]
  },
  {
   "cell_type": "code",
   "execution_count": null,
   "metadata": {},
   "outputs": [],
   "source": []
  },
  {
   "cell_type": "markdown",
   "metadata": {},
   "source": [
    "## Bottom Performing Schools (By Passing Rate)"
   ]
  },
  {
   "cell_type": "markdown",
   "metadata": {},
   "source": [
    "* Sort and display the five worst-performing schools"
   ]
  },
  {
   "cell_type": "code",
   "execution_count": null,
   "metadata": {},
   "outputs": [],
   "source": []
  },
  {
   "cell_type": "markdown",
   "metadata": {
    "collapsed": true
   },
   "source": [
    "## Math Scores by Grade"
   ]
  },
  {
   "cell_type": "markdown",
   "metadata": {},
   "source": [
    "* Create a table that lists the average Reading Score for students of each grade level (9th, 10th, 11th, 12th) at each school.\n",
    "\n",
    "  * Create a pandas series for each grade. Hint: use a conditional statement.\n",
    "  \n",
    "  * Group each series by school\n",
    "  \n",
    "  * Combine the series into a dataframe\n",
    "  \n",
    "  * Optional: give the displayed data cleaner formatting"
   ]
  },
  {
   "cell_type": "code",
   "execution_count": null,
   "metadata": {},
   "outputs": [],
   "source": []
  },
  {
   "cell_type": "markdown",
   "metadata": {},
   "source": [
    "## Reading Score by Grade "
   ]
  },
  {
   "cell_type": "markdown",
   "metadata": {},
   "source": [
    "* Perform the same operations as above for reading scores"
   ]
  },
  {
   "cell_type": "code",
   "execution_count": null,
   "metadata": {},
   "outputs": [],
   "source": []
  },
  {
   "cell_type": "markdown",
   "metadata": {},
   "source": [
    "## Scores by School Spending"
   ]
  },
  {
   "cell_type": "markdown",
   "metadata": {},
   "source": [
    "* Create a table that breaks down school performances based on average Spending Ranges (Per Student). Use 4 reasonable bins to group school spending. Include in the table each of the following:\n",
    "  * Average Math Score\n",
    "  * Average Reading Score\n",
    "  * % Passing Math\n",
    "  * % Passing Reading\n",
    "  * Overall Passing Rate (Average of the above two)"
   ]
  },
  {
   "cell_type": "code",
   "execution_count": null,
   "metadata": {},
   "outputs": [],
   "source": [
    "# Sample bins. Feel free to create your own bins.\n",
    "spending_bins = [0, 585, 615, 645, 675]\n",
    "group_names = [\"<$585\", \"$585-615\", \"$615-645\", \"$645-675\"]"
   ]
  },
  {
   "cell_type": "code",
   "execution_count": null,
   "metadata": {},
   "outputs": [],
   "source": []
  },
  {
   "cell_type": "markdown",
   "metadata": {},
   "source": [
    "## Scores by School Size"
   ]
  },
  {
   "cell_type": "markdown",
   "metadata": {},
   "source": [
    "* Perform the same operations as above, based on school size."
   ]
  },
  {
   "cell_type": "code",
   "execution_count": null,
   "metadata": {},
   "outputs": [],
   "source": [
    "# Sample bins. Feel free to create your own bins.\n",
    "size_bins = [0, 1000, 2000, 5000]\n",
    "group_names = [\"Small (<1000)\", \"Medium (1000-2000)\", \"Large (2000-5000)\"]"
   ]
  },
  {
   "cell_type": "code",
   "execution_count": null,
   "metadata": {
    "scrolled": true
   },
   "outputs": [],
   "source": []
  },
  {
   "cell_type": "markdown",
   "metadata": {},
   "source": [
    "## Scores by School Type"
   ]
  },
  {
   "cell_type": "markdown",
   "metadata": {},
   "source": [
    "* Perform the same operations as above, based on school type."
   ]
  },
  {
   "cell_type": "code",
   "execution_count": null,
   "metadata": {},
   "outputs": [],
   "source": []
  },
  {
   "cell_type": "code",
   "execution_count": null,
   "metadata": {},
   "outputs": [],
   "source": []
  }
 ],
 "metadata": {
  "anaconda-cloud": {},
  "kernel_info": {
   "name": "python3"
  },
  "kernelspec": {
   "display_name": "Python 3",
   "language": "python",
   "name": "python3"
  },
  "language_info": {
   "codemirror_mode": {
    "name": "ipython",
    "version": 3
   },
   "file_extension": ".py",
   "mimetype": "text/x-python",
   "name": "python",
   "nbconvert_exporter": "python",
   "pygments_lexer": "ipython3",
   "version": "3.7.4"
  },
  "latex_envs": {
   "LaTeX_envs_menu_present": true,
   "autoclose": false,
   "autocomplete": true,
   "bibliofile": "biblio.bib",
   "cite_by": "apalike",
   "current_citInitial": 1,
   "eqLabelWithNumbers": true,
   "eqNumInitial": 1,
   "hotkeys": {
    "equation": "Ctrl-E",
    "itemize": "Ctrl-I"
   },
   "labels_anchors": false,
   "latex_user_defs": false,
   "report_style_numbering": false,
   "user_envs_cfg": false
  },
  "nteract": {
   "version": "0.8.4"
  }
 },
 "nbformat": 4,
 "nbformat_minor": 1
}
